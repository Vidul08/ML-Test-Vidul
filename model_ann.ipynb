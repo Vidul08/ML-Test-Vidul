{
  "nbformat": 4,
  "nbformat_minor": 0,
  "metadata": {
    "colab": {
      "provenance": []
    },
    "kernelspec": {
      "name": "python3",
      "display_name": "Python 3"
    },
    "language_info": {
      "name": "python"
    }
  },
  "cells": [
    {
      "cell_type": "code",
      "execution_count": 1,
      "metadata": {
        "id": "k4x3YWMD4X0d"
      },
      "outputs": [],
      "source": [
        "import pandas as pd\n",
        "import seaborn as sns\n",
        "import matplotlib.pyplot as plt\n",
        "\n",
        "file_path = '/content/drive/MyDrive/historic.csv'\n",
        "df = pd.read_csv(file_path)\n"
      ]
    },
    {
      "cell_type": "code",
      "source": [
        "from sklearn.model_selection import train_test_split\n",
        "from sklearn.linear_model import LogisticRegression\n",
        "from sklearn.metrics import accuracy_score, classification_report, confusion_matrix\n",
        "from sklearn.preprocessing import StandardScaler, LabelEncoder\n",
        "from sklearn.metrics import classification_report, confusion_matrix\n",
        "from keras.models import Sequential\n",
        "from keras.layers import Dense\n"
      ],
      "metadata": {
        "id": "Ioskniuh44GH"
      },
      "execution_count": 3,
      "outputs": []
    },
    {
      "cell_type": "code",
      "source": [
        "features = df[['item_no', 'category', 'main_promotion', 'color', 'stars']]\n",
        "target = df['success_indicator']\n",
        "\n",
        "# Convert categorical variables to numerical using Label Encoding\n",
        "label_encoder = LabelEncoder()\n",
        "features['category'] = label_encoder.fit_transform(features['category'])\n",
        "features['main_promotion'] = label_encoder.fit_transform(features['main_promotion'])\n",
        "features['color'] = label_encoder.fit_transform(features['color'])\n",
        "\n"
      ],
      "metadata": {
        "colab": {
          "base_uri": "https://localhost:8080/"
        },
        "id": "foIGXdfY4m6U",
        "outputId": "cf467234-7e0c-462a-9736-78cb2e81c39a"
      },
      "execution_count": 4,
      "outputs": [
        {
          "output_type": "stream",
          "name": "stderr",
          "text": [
            "<ipython-input-4-6770dece9a21>:6: SettingWithCopyWarning: \n",
            "A value is trying to be set on a copy of a slice from a DataFrame.\n",
            "Try using .loc[row_indexer,col_indexer] = value instead\n",
            "\n",
            "See the caveats in the documentation: https://pandas.pydata.org/pandas-docs/stable/user_guide/indexing.html#returning-a-view-versus-a-copy\n",
            "  features['category'] = label_encoder.fit_transform(features['category'])\n",
            "<ipython-input-4-6770dece9a21>:7: SettingWithCopyWarning: \n",
            "A value is trying to be set on a copy of a slice from a DataFrame.\n",
            "Try using .loc[row_indexer,col_indexer] = value instead\n",
            "\n",
            "See the caveats in the documentation: https://pandas.pydata.org/pandas-docs/stable/user_guide/indexing.html#returning-a-view-versus-a-copy\n",
            "  features['main_promotion'] = label_encoder.fit_transform(features['main_promotion'])\n",
            "<ipython-input-4-6770dece9a21>:8: SettingWithCopyWarning: \n",
            "A value is trying to be set on a copy of a slice from a DataFrame.\n",
            "Try using .loc[row_indexer,col_indexer] = value instead\n",
            "\n",
            "See the caveats in the documentation: https://pandas.pydata.org/pandas-docs/stable/user_guide/indexing.html#returning-a-view-versus-a-copy\n",
            "  features['color'] = label_encoder.fit_transform(features['color'])\n"
          ]
        }
      ]
    },
    {
      "cell_type": "code",
      "source": [
        "# Standardize numerical features\n",
        "scaler = StandardScaler()\n",
        "features[['item_no', 'stars']] = scaler.fit_transform(features[['item_no', 'stars']])\n",
        "\n",
        "# Convert target variable to binary labels\n",
        "target = label_encoder.fit_transform(target)\n"
      ],
      "metadata": {
        "colab": {
          "base_uri": "https://localhost:8080/"
        },
        "id": "yj_Brdpm4xkR",
        "outputId": "774c939a-62c3-4c49-ba6f-48d4633bc11a"
      },
      "execution_count": 5,
      "outputs": [
        {
          "output_type": "stream",
          "name": "stderr",
          "text": [
            "<ipython-input-5-eabd9ed2e939>:3: SettingWithCopyWarning: \n",
            "A value is trying to be set on a copy of a slice from a DataFrame.\n",
            "Try using .loc[row_indexer,col_indexer] = value instead\n",
            "\n",
            "See the caveats in the documentation: https://pandas.pydata.org/pandas-docs/stable/user_guide/indexing.html#returning-a-view-versus-a-copy\n",
            "  features[['item_no', 'stars']] = scaler.fit_transform(features[['item_no', 'stars']])\n"
          ]
        }
      ]
    },
    {
      "cell_type": "code",
      "source": [
        "\n",
        "# Split the data into training and testing sets\n",
        "X_train, X_test, y_train, y_test = train_test_split(features, target, test_size=0.2, random_state=42)\n",
        "\n",
        "# Build the ANN model\n",
        "model = Sequential()\n",
        "model.add(Dense(64, input_dim=X_train.shape[1], activation='relu'))\n",
        "model.add(Dense(32, activation='relu'))\n",
        "model.add(Dense(1, activation='sigmoid'))\n",
        "\n"
      ],
      "metadata": {
        "id": "qdnOR7Im5ByE"
      },
      "execution_count": 6,
      "outputs": []
    },
    {
      "cell_type": "code",
      "source": [
        "# Compile the model\n",
        "model.compile(loss='binary_crossentropy', optimizer='adam', metrics=['accuracy'])\n",
        "\n",
        "# Train the model\n",
        "model.fit(X_train, y_train, epochs=25, batch_size=32, validation_split=0.2)\n",
        "\n"
      ],
      "metadata": {
        "colab": {
          "base_uri": "https://localhost:8080/"
        },
        "id": "8vI8S4he5C4C",
        "outputId": "8ec506da-5911-4e6c-bf5c-1720ac729a8e"
      },
      "execution_count": 17,
      "outputs": [
        {
          "output_type": "stream",
          "name": "stdout",
          "text": [
            "Epoch 1/25\n",
            "160/160 [==============================] - 2s 6ms/step - loss: 0.3720 - accuracy: 0.8541 - val_loss: 0.5056 - val_accuracy: 0.8148\n",
            "Epoch 2/25\n",
            "160/160 [==============================] - 1s 7ms/step - loss: 0.3681 - accuracy: 0.8551 - val_loss: 0.4952 - val_accuracy: 0.8195\n",
            "Epoch 3/25\n",
            "160/160 [==============================] - 0s 2ms/step - loss: 0.3652 - accuracy: 0.8566 - val_loss: 0.5064 - val_accuracy: 0.8195\n",
            "Epoch 4/25\n",
            "160/160 [==============================] - 0s 2ms/step - loss: 0.3661 - accuracy: 0.8553 - val_loss: 0.5032 - val_accuracy: 0.8203\n",
            "Epoch 5/25\n",
            "160/160 [==============================] - 0s 2ms/step - loss: 0.3685 - accuracy: 0.8520 - val_loss: 0.5009 - val_accuracy: 0.8172\n",
            "Epoch 6/25\n",
            "160/160 [==============================] - 1s 3ms/step - loss: 0.3682 - accuracy: 0.8537 - val_loss: 0.5054 - val_accuracy: 0.8172\n",
            "Epoch 7/25\n",
            "160/160 [==============================] - 1s 3ms/step - loss: 0.3666 - accuracy: 0.8572 - val_loss: 0.5003 - val_accuracy: 0.8164\n",
            "Epoch 8/25\n",
            "160/160 [==============================] - 1s 4ms/step - loss: 0.3649 - accuracy: 0.8537 - val_loss: 0.5093 - val_accuracy: 0.8164\n",
            "Epoch 9/25\n",
            "160/160 [==============================] - 1s 3ms/step - loss: 0.3643 - accuracy: 0.8545 - val_loss: 0.4999 - val_accuracy: 0.8203\n",
            "Epoch 10/25\n",
            "160/160 [==============================] - 1s 3ms/step - loss: 0.3673 - accuracy: 0.8545 - val_loss: 0.5015 - val_accuracy: 0.8219\n",
            "Epoch 11/25\n",
            "160/160 [==============================] - 1s 4ms/step - loss: 0.3692 - accuracy: 0.8537 - val_loss: 0.5003 - val_accuracy: 0.8180\n",
            "Epoch 12/25\n",
            "160/160 [==============================] - 1s 4ms/step - loss: 0.3655 - accuracy: 0.8555 - val_loss: 0.5093 - val_accuracy: 0.8086\n",
            "Epoch 13/25\n",
            "160/160 [==============================] - 0s 2ms/step - loss: 0.3707 - accuracy: 0.8564 - val_loss: 0.5054 - val_accuracy: 0.8117\n",
            "Epoch 14/25\n",
            "160/160 [==============================] - 0s 2ms/step - loss: 0.3696 - accuracy: 0.8555 - val_loss: 0.5036 - val_accuracy: 0.8211\n",
            "Epoch 15/25\n",
            "160/160 [==============================] - 0s 2ms/step - loss: 0.3640 - accuracy: 0.8559 - val_loss: 0.5100 - val_accuracy: 0.8039\n",
            "Epoch 16/25\n",
            "160/160 [==============================] - 0s 2ms/step - loss: 0.3665 - accuracy: 0.8566 - val_loss: 0.5279 - val_accuracy: 0.7898\n",
            "Epoch 17/25\n",
            "160/160 [==============================] - 0s 2ms/step - loss: 0.3647 - accuracy: 0.8570 - val_loss: 0.4941 - val_accuracy: 0.8195\n",
            "Epoch 18/25\n",
            "160/160 [==============================] - 0s 2ms/step - loss: 0.3658 - accuracy: 0.8590 - val_loss: 0.5063 - val_accuracy: 0.8164\n",
            "Epoch 19/25\n",
            "160/160 [==============================] - 0s 2ms/step - loss: 0.3657 - accuracy: 0.8545 - val_loss: 0.4999 - val_accuracy: 0.8203\n",
            "Epoch 20/25\n",
            "160/160 [==============================] - 0s 2ms/step - loss: 0.3649 - accuracy: 0.8580 - val_loss: 0.4958 - val_accuracy: 0.8219\n",
            "Epoch 21/25\n",
            "160/160 [==============================] - 0s 2ms/step - loss: 0.3679 - accuracy: 0.8557 - val_loss: 0.5008 - val_accuracy: 0.8188\n",
            "Epoch 22/25\n",
            "160/160 [==============================] - 0s 2ms/step - loss: 0.3646 - accuracy: 0.8564 - val_loss: 0.5058 - val_accuracy: 0.8164\n",
            "Epoch 23/25\n",
            "160/160 [==============================] - 0s 2ms/step - loss: 0.3656 - accuracy: 0.8561 - val_loss: 0.4964 - val_accuracy: 0.8227\n",
            "Epoch 24/25\n",
            "160/160 [==============================] - 0s 2ms/step - loss: 0.3612 - accuracy: 0.8545 - val_loss: 0.5037 - val_accuracy: 0.8242\n",
            "Epoch 25/25\n",
            "160/160 [==============================] - 0s 2ms/step - loss: 0.3667 - accuracy: 0.8543 - val_loss: 0.5036 - val_accuracy: 0.8148\n"
          ]
        },
        {
          "output_type": "execute_result",
          "data": {
            "text/plain": [
              "<keras.src.callbacks.History at 0x7fd714a6d0c0>"
            ]
          },
          "metadata": {},
          "execution_count": 17
        }
      ]
    },
    {
      "cell_type": "code",
      "source": [
        "# Evaluate the model on the test set\n",
        "loss, accuracy = model.evaluate(X_test, y_test)\n",
        "print(f'Test Loss: {loss:.4f}')\n",
        "print(f'Test Accuracy: {accuracy:.4f}')\n"
      ],
      "metadata": {
        "colab": {
          "base_uri": "https://localhost:8080/"
        },
        "id": "Qhk9wQWo5EMM",
        "outputId": "6ec203b7-f2f0-4000-d4c5-78612491583e"
      },
      "execution_count": 18,
      "outputs": [
        {
          "output_type": "stream",
          "name": "stdout",
          "text": [
            "50/50 [==============================] - 0s 2ms/step - loss: 0.4954 - accuracy: 0.8188\n",
            "Test Loss: 0.4954\n",
            "Test Accuracy: 0.8188\n"
          ]
        }
      ]
    },
    {
      "cell_type": "code",
      "source": [
        "\n",
        "# Make predictions on the test set\n",
        "y_pred_probs = model.predict(X_test)\n",
        "y_pred = (y_pred_probs > 0.5).astype(int)\n",
        "\n",
        "# Print classification report and confusion matrix\n",
        "print('\\nClassification Report:')\n",
        "print(classification_report(y_test, y_pred))\n",
        "print('\\nConfusion Matrix:')\n",
        "print(confusion_matrix(y_test, y_pred))"
      ],
      "metadata": {
        "colab": {
          "base_uri": "https://localhost:8080/"
        },
        "id": "MpnNGa2850IS",
        "outputId": "59d742a9-178f-4cf6-a37a-809461131ede"
      },
      "execution_count": 19,
      "outputs": [
        {
          "output_type": "stream",
          "name": "stdout",
          "text": [
            "50/50 [==============================] - 0s 1ms/step\n",
            "\n",
            "Classification Report:\n",
            "              precision    recall  f1-score   support\n",
            "\n",
            "           0       0.78      0.68      0.73       571\n",
            "           1       0.84      0.89      0.86      1029\n",
            "\n",
            "    accuracy                           0.82      1600\n",
            "   macro avg       0.81      0.79      0.80      1600\n",
            "weighted avg       0.82      0.82      0.82      1600\n",
            "\n",
            "\n",
            "Confusion Matrix:\n",
            "[[390 181]\n",
            " [109 920]]\n"
          ]
        }
      ]
    },
    {
      "cell_type": "code",
      "source": [
        "new_file_path = '/content/drive/MyDrive/prediction_input.csv'\n",
        "new_df = pd.read_csv(new_file_path)"
      ],
      "metadata": {
        "id": "BY2mQp2U-lUU"
      },
      "execution_count": 20,
      "outputs": []
    },
    {
      "cell_type": "code",
      "source": [
        "import pandas as pd\n",
        "import pickle\n",
        "from sklearn.preprocessing import StandardScaler, LabelEncoder\n",
        "from sklearn.svm import SVC"
      ],
      "metadata": {
        "id": "qdMuUfwG-o8M"
      },
      "execution_count": 24,
      "outputs": []
    }
  ]
}