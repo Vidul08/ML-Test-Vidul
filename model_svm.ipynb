{
  "nbformat": 4,
  "nbformat_minor": 0,
  "metadata": {
    "colab": {
      "provenance": []
    },
    "kernelspec": {
      "name": "python3",
      "display_name": "Python 3"
    },
    "language_info": {
      "name": "python"
    }
  },
  "cells": [
    {
      "cell_type": "code",
      "execution_count": 1,
      "metadata": {
        "id": "Gm6hfFF8557c"
      },
      "outputs": [],
      "source": [
        "import pandas as pd\n",
        "import seaborn as sns\n",
        "import matplotlib.pyplot as plt\n",
        "\n",
        "file_path = '/content/drive/MyDrive/historic.csv'\n",
        "df = pd.read_csv(file_path)\n"
      ]
    },
    {
      "cell_type": "code",
      "source": [
        "from sklearn.model_selection import train_test_split\n",
        "from sklearn.linear_model import LogisticRegression\n",
        "from sklearn.metrics import accuracy_score, classification_report, confusion_matrix\n",
        "from sklearn.preprocessing import StandardScaler, LabelEncoder\n",
        "from sklearn.metrics import classification_report, confusion_matrix\n",
        "from keras.models import Sequential\n",
        "from keras.layers import Dense\n",
        "from sklearn.svm import SVC"
      ],
      "metadata": {
        "id": "Nw_MY65f6spW"
      },
      "execution_count": 11,
      "outputs": []
    },
    {
      "cell_type": "code",
      "source": [
        "# Assuming 'success_indicator' is the target variable, and other columns are features\n",
        "features = df[['item_no', 'category', 'main_promotion', 'color', 'stars']]\n",
        "target = df['success_indicator']\n",
        "\n"
      ],
      "metadata": {
        "id": "QBzEtGGQ6Wct"
      },
      "execution_count": 12,
      "outputs": []
    },
    {
      "cell_type": "code",
      "source": [
        "# Convert categorical variables to numerical using Label Encoding\n",
        "label_encoder = LabelEncoder()\n",
        "features['category'] = label_encoder.fit_transform(features['category'])\n",
        "features['main_promotion'] = label_encoder.fit_transform(features['main_promotion'])\n",
        "features['color'] = label_encoder.fit_transform(features['color'])\n",
        "\n"
      ],
      "metadata": {
        "colab": {
          "base_uri": "https://localhost:8080/"
        },
        "id": "3xHFKuw-6obD",
        "outputId": "04366e25-aa4e-4482-9cc2-ca138c04fd48"
      },
      "execution_count": 13,
      "outputs": [
        {
          "output_type": "stream",
          "name": "stderr",
          "text": [
            "<ipython-input-13-b0b1c7d4c1e6>:3: SettingWithCopyWarning: \n",
            "A value is trying to be set on a copy of a slice from a DataFrame.\n",
            "Try using .loc[row_indexer,col_indexer] = value instead\n",
            "\n",
            "See the caveats in the documentation: https://pandas.pydata.org/pandas-docs/stable/user_guide/indexing.html#returning-a-view-versus-a-copy\n",
            "  features['category'] = label_encoder.fit_transform(features['category'])\n",
            "<ipython-input-13-b0b1c7d4c1e6>:4: SettingWithCopyWarning: \n",
            "A value is trying to be set on a copy of a slice from a DataFrame.\n",
            "Try using .loc[row_indexer,col_indexer] = value instead\n",
            "\n",
            "See the caveats in the documentation: https://pandas.pydata.org/pandas-docs/stable/user_guide/indexing.html#returning-a-view-versus-a-copy\n",
            "  features['main_promotion'] = label_encoder.fit_transform(features['main_promotion'])\n",
            "<ipython-input-13-b0b1c7d4c1e6>:5: SettingWithCopyWarning: \n",
            "A value is trying to be set on a copy of a slice from a DataFrame.\n",
            "Try using .loc[row_indexer,col_indexer] = value instead\n",
            "\n",
            "See the caveats in the documentation: https://pandas.pydata.org/pandas-docs/stable/user_guide/indexing.html#returning-a-view-versus-a-copy\n",
            "  features['color'] = label_encoder.fit_transform(features['color'])\n"
          ]
        }
      ]
    },
    {
      "cell_type": "code",
      "source": [
        "# Standardize numerical features\n",
        "scaler = StandardScaler()\n",
        "features[['item_no', 'stars']] = scaler.fit_transform(features[['item_no', 'stars']])\n"
      ],
      "metadata": {
        "colab": {
          "base_uri": "https://localhost:8080/"
        },
        "id": "_IOo0soM6pnr",
        "outputId": "721ce80d-605f-4b2a-c7e5-9738fbb669e4"
      },
      "execution_count": 14,
      "outputs": [
        {
          "output_type": "stream",
          "name": "stderr",
          "text": [
            "<ipython-input-14-7e908b8daf7d>:3: SettingWithCopyWarning: \n",
            "A value is trying to be set on a copy of a slice from a DataFrame.\n",
            "Try using .loc[row_indexer,col_indexer] = value instead\n",
            "\n",
            "See the caveats in the documentation: https://pandas.pydata.org/pandas-docs/stable/user_guide/indexing.html#returning-a-view-versus-a-copy\n",
            "  features[['item_no', 'stars']] = scaler.fit_transform(features[['item_no', 'stars']])\n"
          ]
        }
      ]
    },
    {
      "cell_type": "code",
      "source": [
        "\n",
        "# Convert target variable to binary labels\n",
        "target = label_encoder.fit_transform(target)\n",
        "\n",
        "# Split the data into training and testing sets\n",
        "X_train, X_test, y_train, y_test = train_test_split(features, target, test_size=0.2, random_state=42)\n",
        "\n"
      ],
      "metadata": {
        "id": "gnVbyY456tpU"
      },
      "execution_count": 15,
      "outputs": []
    },
    {
      "cell_type": "code",
      "source": [
        "# Build the SVM model\n",
        "model = SVC(kernel='linear', C=1.0)\n"
      ],
      "metadata": {
        "id": "JTzMyVjg6ySc"
      },
      "execution_count": 16,
      "outputs": []
    },
    {
      "cell_type": "code",
      "source": [
        "\n",
        "# Train the model\n",
        "model.fit(X_train, y_train)\n",
        "\n",
        "# Evaluate the model on the test set\n",
        "y_pred = model.predict(X_test)\n",
        "\n",
        "# Print classification report and confusion matrix\n",
        "print('\\nClassification Report:')\n",
        "print(classification_report(y_test, y_pred))\n",
        "print('\\nConfusion Matrix:')\n",
        "print(confusion_matrix(y_test, y_pred))"
      ],
      "metadata": {
        "colab": {
          "base_uri": "https://localhost:8080/"
        },
        "id": "2WJoaad86zdF",
        "outputId": "5b10fa1e-47da-44df-bb37-0b6c49f4b017"
      },
      "execution_count": 17,
      "outputs": [
        {
          "output_type": "stream",
          "name": "stdout",
          "text": [
            "\n",
            "Classification Report:\n",
            "              precision    recall  f1-score   support\n",
            "\n",
            "           0       0.78      0.61      0.68       571\n",
            "           1       0.81      0.90      0.85      1029\n",
            "\n",
            "    accuracy                           0.80      1600\n",
            "   macro avg       0.79      0.75      0.77      1600\n",
            "weighted avg       0.80      0.80      0.79      1600\n",
            "\n",
            "\n",
            "Confusion Matrix:\n",
            "[[346 225]\n",
            " [ 99 930]]\n"
          ]
        }
      ]
    },
    {
      "cell_type": "code",
      "source": [
        "# Load the CSV file with new inputs\n",
        "new_inputs_file = '/content/drive/MyDrive/prediction_input.csv'\n",
        "new_inputs_df = pd.read_csv(new_inputs_file)\n"
      ],
      "metadata": {
        "id": "HaDuLZwoDJbT"
      },
      "execution_count": 34,
      "outputs": []
    },
    {
      "cell_type": "code",
      "source": [],
      "metadata": {
        "id": "LDT2G4kQD0Gd"
      },
      "execution_count": null,
      "outputs": []
    }
  ]
}